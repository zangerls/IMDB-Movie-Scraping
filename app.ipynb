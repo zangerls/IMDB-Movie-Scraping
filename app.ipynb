{
 "cells": [
  {
   "cell_type": "code",
   "execution_count": 2,
   "metadata": {},
   "outputs": [],
   "source": [
    "import pandas as pd\n",
    "import numpy as np\n",
    "from bs4 import BeautifulSoup\n",
    "import requests"
   ]
  },
  {
   "cell_type": "code",
   "execution_count": 3,
   "metadata": {},
   "outputs": [],
   "source": [
    "URL = 'https://www.imdb.com/chart/top/?ref_=nv_mv_250'\n",
    "page = requests.get(URL)"
   ]
  },
  {
   "cell_type": "code",
   "execution_count": 4,
   "metadata": {},
   "outputs": [],
   "source": [
    "soup = BeautifulSoup(page.content, 'html.parser')\n",
    "results = soup.find_all('td', class_='titleColumn')"
   ]
  },
  {
   "cell_type": "code",
   "execution_count": 5,
   "metadata": {},
   "outputs": [],
   "source": [
    "links = []\n",
    "\n",
    "for result in results:\n",
    "    href = result.find('a')\n",
    "    href_str = (str(href))\n",
    "    link = href_str[9:26]\n",
    "    links.append(link)\n",
    "\n",
    "titles = []\n",
    "releases = []\n",
    "lengths = []"
   ]
  },
  {
   "cell_type": "code",
   "execution_count": 6,
   "metadata": {},
   "outputs": [],
   "source": [
    "for i, link in enumerate(links):\n",
    "    full_link = 'https://www.imdb.com' + link\n",
    "    page = requests.get(full_link)\n",
    "    soup = BeautifulSoup(page.content, 'html.parser')\n",
    "\n",
    "    info = soup.find('div', class_='hglRHk')\n",
    "    temp_title = info.find('h1')\n",
    "    title = temp_title.text.strip()\n",
    "    titles.append(title)\n",
    "\n",
    "    # Liste mit Veröffentlichungsdatum, Altersfreigabe und Dauer\n",
    "    ul = info.find('ul')\n",
    "    more_info = ul.find_all('li')\n",
    "\n",
    "    year = more_info[0].text.strip()[:4]\n",
    "    releases.append(year)\n",
    "    length = more_info[-1].text.strip()\n",
    "    lengths.append(length)"
   ]
  },
  {
   "cell_type": "code",
   "execution_count": 7,
   "metadata": {},
   "outputs": [],
   "source": [
    "d = {'title': titles, 'release': releases, 'duration': lengths}\n",
    "df = pd.DataFrame(data=d)"
   ]
  },
  {
   "cell_type": "code",
   "execution_count": 8,
   "metadata": {},
   "outputs": [
    {
     "data": {
      "text/html": [
       "<div>\n",
       "<style scoped>\n",
       "    .dataframe tbody tr th:only-of-type {\n",
       "        vertical-align: middle;\n",
       "    }\n",
       "\n",
       "    .dataframe tbody tr th {\n",
       "        vertical-align: top;\n",
       "    }\n",
       "\n",
       "    .dataframe thead th {\n",
       "        text-align: right;\n",
       "    }\n",
       "</style>\n",
       "<table border=\"1\" class=\"dataframe\">\n",
       "  <thead>\n",
       "    <tr style=\"text-align: right;\">\n",
       "      <th></th>\n",
       "      <th>title</th>\n",
       "      <th>release</th>\n",
       "      <th>duration</th>\n",
       "    </tr>\n",
       "  </thead>\n",
       "  <tbody>\n",
       "    <tr>\n",
       "      <th>0</th>\n",
       "      <td>Die Verurteilten</td>\n",
       "      <td>1994</td>\n",
       "      <td>2h 22m</td>\n",
       "    </tr>\n",
       "    <tr>\n",
       "      <th>1</th>\n",
       "      <td>Der Pate</td>\n",
       "      <td>1972</td>\n",
       "      <td>2h 55m</td>\n",
       "    </tr>\n",
       "    <tr>\n",
       "      <th>2</th>\n",
       "      <td>Der Pate 2</td>\n",
       "      <td>1974</td>\n",
       "      <td>3h 22m</td>\n",
       "    </tr>\n",
       "    <tr>\n",
       "      <th>3</th>\n",
       "      <td>The Dark Knight</td>\n",
       "      <td>2008</td>\n",
       "      <td>2h 32m</td>\n",
       "    </tr>\n",
       "    <tr>\n",
       "      <th>4</th>\n",
       "      <td>Die 12 Geschworenen</td>\n",
       "      <td>1957</td>\n",
       "      <td>1h 36m</td>\n",
       "    </tr>\n",
       "  </tbody>\n",
       "</table>\n",
       "</div>"
      ],
      "text/plain": [
       "                 title release duration\n",
       "0     Die Verurteilten    1994   2h 22m\n",
       "1             Der Pate    1972   2h 55m\n",
       "2           Der Pate 2    1974   3h 22m\n",
       "3      The Dark Knight    2008   2h 32m\n",
       "4  Die 12 Geschworenen    1957   1h 36m"
      ]
     },
     "execution_count": 8,
     "metadata": {},
     "output_type": "execute_result"
    }
   ],
   "source": [
    "df.head()"
   ]
  }
 ],
 "metadata": {
  "interpreter": {
   "hash": "5fcd2642978b16f6bbd7e7ad8d3dd4856b9ed7b9e5afb74471291183f56d1393"
  },
  "kernelspec": {
   "display_name": "Python 3.9.4 64-bit",
   "language": "python",
   "name": "python3"
  },
  "language_info": {
   "codemirror_mode": {
    "name": "ipython",
    "version": 3
   },
   "file_extension": ".py",
   "mimetype": "text/x-python",
   "name": "python",
   "nbconvert_exporter": "python",
   "pygments_lexer": "ipython3",
   "version": "3.8.8"
  },
  "orig_nbformat": 4
 },
 "nbformat": 4,
 "nbformat_minor": 2
}
